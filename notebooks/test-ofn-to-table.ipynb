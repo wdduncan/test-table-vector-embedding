{
 "cells": [
  {
   "cell_type": "code",
   "execution_count": 1,
   "id": "e9b8c932-d7b9-43a2-8e3f-7d442a2b9f5f",
   "metadata": {},
   "outputs": [],
   "source": [
    "%load_ext autoreload\n",
    "%autoreload 2"
   ]
  },
  {
   "cell_type": "code",
   "execution_count": 2,
   "id": "27ab75ae-2032-4981-b9e2-4352ed4cd7e2",
   "metadata": {},
   "outputs": [],
   "source": [
    "import sys\n",
    "sys.path.append('../util')"
   ]
  },
  {
   "cell_type": "code",
   "execution_count": 3,
   "id": "90c2bceb-2009-4801-b366-cd69ec864bc2",
   "metadata": {},
   "outputs": [],
   "source": [
    "import re\n",
    "import pandas as pd\n",
    "from pprint import pprint\n",
    "from ofn_to_table import ofn_to_df"
   ]
  },
  {
   "cell_type": "code",
   "execution_count": 22,
   "id": "10cc948b-e3aa-4b80-8ee1-e6dbacdeb4e9",
   "metadata": {},
   "outputs": [],
   "source": [
    "pd.options.display.max_colwidth = 50\n",
    "df = ofn_to_df('../ontology/test-dental.ofn')"
   ]
  },
  {
   "cell_type": "code",
   "execution_count": 23,
   "id": "89bdce7b-4ae1-41b0-911a-efc90fa7053a",
   "metadata": {},
   "outputs": [
    {
     "data": {
      "text/html": [
       "<div>\n",
       "<style scoped>\n",
       "    .dataframe tbody tr th:only-of-type {\n",
       "        vertical-align: middle;\n",
       "    }\n",
       "\n",
       "    .dataframe tbody tr th {\n",
       "        vertical-align: top;\n",
       "    }\n",
       "\n",
       "    .dataframe thead th {\n",
       "        text-align: right;\n",
       "    }\n",
       "</style>\n",
       "<table border=\"1\" class=\"dataframe\">\n",
       "  <thead>\n",
       "    <tr style=\"text-align: right;\">\n",
       "      <th></th>\n",
       "      <th>iri</th>\n",
       "      <th>axiom</th>\n",
       "    </tr>\n",
       "  </thead>\n",
       "  <tbody>\n",
       "    <tr>\n",
       "      <th>0</th>\n",
       "      <td>https://test-dental.owl/canine</td>\n",
       "      <td>AnnotationAssertion(rdfs:label &lt;https://test-d...</td>\n",
       "    </tr>\n",
       "    <tr>\n",
       "      <th>1</th>\n",
       "      <td>https://test-dental.owl/canine</td>\n",
       "      <td>SubClassOf(&lt;https://test-dental.owl/canine&gt; &lt;h...</td>\n",
       "    </tr>\n",
       "    <tr>\n",
       "      <th>2</th>\n",
       "      <td>https://test-dental.owl/crown_restoration</td>\n",
       "      <td>AnnotationAssertion(rdfs:label &lt;https://test-d...</td>\n",
       "    </tr>\n",
       "    <tr>\n",
       "      <th>3</th>\n",
       "      <td>https://test-dental.owl/crown_restoration</td>\n",
       "      <td>SubClassOf(&lt;https://test-dental.owl/crown_rest...</td>\n",
       "    </tr>\n",
       "    <tr>\n",
       "      <th>4</th>\n",
       "      <td>https://test-dental.owl/data_value</td>\n",
       "      <td>AnnotationAssertion(rdfs:label &lt;https://test-d...</td>\n",
       "    </tr>\n",
       "  </tbody>\n",
       "</table>\n",
       "</div>"
      ],
      "text/plain": [
       "                                         iri  \\\n",
       "0             https://test-dental.owl/canine   \n",
       "1             https://test-dental.owl/canine   \n",
       "2  https://test-dental.owl/crown_restoration   \n",
       "3  https://test-dental.owl/crown_restoration   \n",
       "4         https://test-dental.owl/data_value   \n",
       "\n",
       "                                               axiom  \n",
       "0  AnnotationAssertion(rdfs:label <https://test-d...  \n",
       "1  SubClassOf(<https://test-dental.owl/canine> <h...  \n",
       "2  AnnotationAssertion(rdfs:label <https://test-d...  \n",
       "3  SubClassOf(<https://test-dental.owl/crown_rest...  \n",
       "4  AnnotationAssertion(rdfs:label <https://test-d...  "
      ]
     },
     "execution_count": 23,
     "metadata": {},
     "output_type": "execute_result"
    }
   ],
   "source": [
    "df.head()"
   ]
  },
  {
   "cell_type": "code",
   "execution_count": null,
   "id": "9c66ec02-c8d7-455e-9757-6463da32fee5",
   "metadata": {},
   "outputs": [],
   "source": []
  }
 ],
 "metadata": {
  "kernelspec": {
   "display_name": "Python 3 (ipykernel)",
   "language": "python",
   "name": "python3"
  },
  "language_info": {
   "codemirror_mode": {
    "name": "ipython",
    "version": 3
   },
   "file_extension": ".py",
   "mimetype": "text/x-python",
   "name": "python",
   "nbconvert_exporter": "python",
   "pygments_lexer": "ipython3",
   "version": "3.11.6"
  }
 },
 "nbformat": 4,
 "nbformat_minor": 5
}
